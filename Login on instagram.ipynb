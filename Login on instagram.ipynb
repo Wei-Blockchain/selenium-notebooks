{
 "cells": [
  {
   "cell_type": "code",
   "execution_count": 2,
   "metadata": {
    "collapsed": true
   },
   "outputs": [],
   "source": [
    "import os\n",
    "from time import sleep\n",
    "from selenium import webdriver"
   ]
  },
  {
   "cell_type": "markdown",
   "metadata": {},
   "source": [
    "create a file 'insta.env' with the following content\n",
    "\n",
    "username=*********\n",
    "password=*********"
   ]
  },
  {
   "cell_type": "code",
   "execution_count": 14,
   "metadata": {},
   "outputs": [
    {
     "name": "stdout",
     "output_type": "stream",
     "text": [
      "username\n",
      "password\n"
     ]
    }
   ],
   "source": [
    "with open('insta.env') as f:\n",
    "    for line in f:\n",
    "        key, value = line.strip().split('=', 1)\n",
    "        os.environ[key] = value\n",
    "        print(key)"
   ]
  },
  {
   "cell_type": "code",
   "execution_count": 4,
   "metadata": {
    "collapsed": true
   },
   "outputs": [],
   "source": [
    "url = \"https://www.instagram.com/accounts/login/\""
   ]
  },
  {
   "cell_type": "code",
   "execution_count": 6,
   "metadata": {},
   "outputs": [],
   "source": [
    "driver = webdriver.Chrome(executable_path=\"/home/guilherme/Documentos/selenium-notebooks/chromedriver2.25\")"
   ]
  },
  {
   "cell_type": "code",
   "execution_count": 7,
   "metadata": {
    "collapsed": true
   },
   "outputs": [],
   "source": [
    "driver.get(url)"
   ]
  },
  {
   "cell_type": "code",
   "execution_count": 16,
   "metadata": {},
   "outputs": [],
   "source": [
    "username_field = driver.find_element_by_name('username')\n",
    "password_field = driver.find_element_by_name('password')"
   ]
  },
  {
   "cell_type": "code",
   "execution_count": 17,
   "metadata": {},
   "outputs": [],
   "source": [
    "username_field.send_keys(os.environ['username'])"
   ]
  },
  {
   "cell_type": "code",
   "execution_count": 18,
   "metadata": {
    "collapsed": true
   },
   "outputs": [],
   "source": [
    "password_field.send_keys(os.environ['password'])"
   ]
  },
  {
   "cell_type": "code",
   "execution_count": 19,
   "metadata": {},
   "outputs": [],
   "source": [
    "driver.find_element_by_xpath(\"//button[contains(.,'Entrar')]\").click()"
   ]
  },
  {
   "cell_type": "code",
   "execution_count": 27,
   "metadata": {},
   "outputs": [],
   "source": [
    "profile = \"https://www.instagram.com/\"+os.environ['username']"
   ]
  },
  {
   "cell_type": "code",
   "execution_count": 28,
   "metadata": {
    "collapsed": true
   },
   "outputs": [],
   "source": [
    "driver.get(profile)"
   ]
  },
  {
   "cell_type": "code",
   "execution_count": 29,
   "metadata": {},
   "outputs": [],
   "source": [
    "driver.find_element_by_xpath(\"//a[contains(.,'seguindo')]\").click()"
   ]
  },
  {
   "cell_type": "code",
   "execution_count": 48,
   "metadata": {
    "collapsed": true
   },
   "outputs": [],
   "source": [
    "driver.execute_script(\"window.scrollTo(0, 500);\")"
   ]
  },
  {
   "cell_type": "code",
   "execution_count": 54,
   "metadata": {},
   "outputs": [],
   "source": [
    "q = len(items)"
   ]
  },
  {
   "cell_type": "code",
   "execution_count": 76,
   "metadata": {},
   "outputs": [
    {
     "data": {
      "text/plain": [
       "'rachel_alves\\nRachel Alves\\nSeguindo'"
      ]
     },
     "execution_count": 76,
     "metadata": {},
     "output_type": "execute_result"
    }
   ],
   "source": [
    "items[q-2].text"
   ]
  },
  {
   "cell_type": "code",
   "execution_count": 86,
   "metadata": {},
   "outputs": [],
   "source": [
    "t = items[q-1].text.splitlines()[1]\n",
    "\n",
    "\n",
    "li = driver.find_element_by_xpath(\"//li[contains(.,'\"+t+\"')]\")"
   ]
  },
  {
   "cell_type": "code",
   "execution_count": 87,
   "metadata": {},
   "outputs": [
    {
     "data": {
      "text/plain": [
       "<selenium.webdriver.remote.webelement.WebElement (session=\"fa0bd34392065921cec8a91e95555528\", element=\"0.7204782415072015-55\")>"
      ]
     },
     "execution_count": 87,
     "metadata": {},
     "output_type": "execute_result"
    }
   ],
   "source": [
    "li"
   ]
  },
  {
   "cell_type": "code",
   "execution_count": 89,
   "metadata": {},
   "outputs": [
    {
     "data": {
      "text/plain": [
       "{'x': 166, 'y': 726}"
      ]
     },
     "execution_count": 89,
     "metadata": {},
     "output_type": "execute_result"
    }
   ],
   "source": [
    "li.location_once_scrolled_into_view"
   ]
  },
  {
   "cell_type": "markdown",
   "metadata": {},
   "source": [
    "scrolling down to show the complete following list"
   ]
  },
  {
   "cell_type": "code",
   "execution_count": 36,
   "metadata": {
    "scrolled": true
   },
   "outputs": [
    {
     "name": "stdout",
     "output_type": "stream",
     "text": [
      "['swpalmas', 'Startup Weekend Palmas', 'Seguindo']\n",
      "['jakeparker', 'Jake Parker', 'Seguindo']\n",
      "['42bareboardgames', '42 Bar e Board Games', 'Seguindo']\n",
      "['elefint', 'Elefint', 'Seguindo']\n",
      "['ichtustattoo', 'Ichtustattoo', 'Seguindo']\n",
      "['carolucht', 'Carolina Luchtenberg', 'Seguindo']\n",
      "['osliadriel', 'OSLI A M SETUBAL', 'Seguindo']\n",
      "['laisgomes2107', 'Lais Gomes', 'Seguindo']\n",
      "['lucaseamachado', 'Lucas Emmanoel Araujo Machado', 'Seguindo']\n",
      "['joutjout', 'Verificado', 'Jout Jout', 'Seguindo']\n",
      "['joutjout', 'Verificado', 'Jout Jout', 'Seguindo']\n"
     ]
    }
   ],
   "source": [
    "profile = \"https://www.instagram.com/\"+os.environ['username']\n",
    "driver.get(profile)\n",
    "driver.find_element_by_xpath(\"//a[contains(.,'seguindo')]\").click()\n",
    "\n",
    "sleep(2)\n",
    "old_li_text = 'old'\n",
    "li_text = 'text'\n",
    "items = driver.find_elements_by_tag_name(\"li\")\n",
    "while old_li_text != li_text:\n",
    "    old_li_text = li_text\n",
    "    items = driver.find_elements_by_tag_name(\"li\")\n",
    "    q = len(items)\n",
    "    li_text = items[q-1].text.splitlines()\n",
    "    li = driver.find_element_by_xpath(\"//li[contains(.,'\"+li_text[1]+\"')]\")\n",
    "    li.location_once_scrolled_into_view\n",
    "    print(li_text)\n",
    "    sleep(2)\n",
    "\n",
    "\n",
    "    \n",
    "\n"
   ]
  },
  {
   "cell_type": "code",
   "execution_count": 43,
   "metadata": {},
   "outputs": [],
   "source": [
    "items = driver.find_elements_by_tag_name(\"li\")\n",
    "for item in items:\n",
    "    text = item.text\n",
    "    #print(item)\n",
    "\n"
   ]
  },
  {
   "cell_type": "code",
   "execution_count": 79,
   "metadata": {},
   "outputs": [
    {
     "name": "stdout",
     "output_type": "stream",
     "text": [
      "0\n",
      "user: pathydejesus\n",
      "nome: Patricia Dejesus 🐜\n",
      "1\n",
      "user: alecrim_ci\n",
      "nome: Alecrim Cozinha Inteligente\n",
      "2\n",
      "user: saravernerr\n",
      "nome: Sara Verner\n",
      "3\n",
      "user: marianoalvesfotografia\n",
      "nome: Mariano Alves fotógrafo\n",
      "4\n",
      "user: nordestrip\n",
      "nome: 🌴 NordesTrip 🌵\n",
      "5\n",
      "user: matelima\n",
      "nome: ⠀⠀⠀⠀⠀⠀⠀M⠀a⠀t⠀e⠀u⠀s ⠀⠀⠀L⠀i⠀m⠀a⠀\n",
      "6\n",
      "user: paulohanda\n",
      "nome: Paulo Handa Art Gallery\n",
      "7\n",
      "user: pedromarcioap\n",
      "nome: Pedro Márcio\n",
      "8\n",
      "user: gamespot\n",
      "nome: GameSpot\n",
      "9\n",
      "user: vistasba\n",
      "nome: SBA\n",
      "10\n",
      "user: mariajoaquinabarbosa\n",
      "nome: Maria Joaquina Barbosa Goulart\n",
      "11\n",
      "user: marciorms\n",
      "nome: Marcio Machado da Silva\n",
      "12\n",
      "user: bradfeld\n",
      "nome: bradfeld\n",
      "13\n",
      "user: mmarcosmedeiros\n",
      "nome: Marcos Medeiros\n",
      "14\n",
      "user: piticaspalmas\n",
      "nome: Piticas - Palmas/TO\n",
      "15\n",
      "user: clubedorisco\n",
      "nome: Clube do Risco 💀\n",
      "16\n",
      "user: aylluatacama\n",
      "nome: Mike - Aylluatacama\n",
      "17\n",
      "user: isthisreal\n",
      "nome: Brian Baldrati™\n",
      "18\n",
      "user: blogumviajante\n",
      "nome: Um Viajante\n",
      "19\n",
      "user: swpalmas\n",
      "nome: Startup Weekend Palmas\n",
      "20\n",
      "user: nekoama\n",
      "nome: Ama\n",
      "21\n",
      "user: 5horas\n",
      "nome: Felipe 5 Horas\n",
      "22\n",
      "user: anendfor\n",
      "nome: Fernando Schlaepfer\n",
      "23\n",
      "user: taikawaititi\n",
      "nome: Taika Waititi\n",
      "24\n",
      "user: yasmin.ant\n",
      "nome: Yasmin Formiga\n",
      "25\n",
      "user: karlacibelle\n",
      "nome: Karla Cibelle\n",
      "26\n",
      "user: toca.da.bruxa\n",
      "nome: mariana teixeira\n",
      "27\n",
      "user: tcheqnorris\n",
      "nome: Kerols\n",
      "28\n",
      "user: elesq\n",
      "nome: Elliana Esquivel\n",
      "29\n",
      "user: jakeparker\n",
      "nome: Jake Parker\n",
      "30\n",
      "user: cintia_fers\n",
      "nome: Cintia Fernandes\n",
      "31\n",
      "user: senhorinibier\n",
      "nome: Cerveja Artesanal Senhorini\n",
      "32\n",
      "user: nadyah.art\n",
      "nome: Nadya\n",
      "33\n",
      "user: mioree_\n",
      "nome: Mioree\n",
      "34\n",
      "user: _picolo\n",
      "nome: Gabriel Picolo\n",
      "35\n",
      "user: artofsaltedegg\n",
      "nome: Salted Egg\n",
      "36\n",
      "user: mkarolqueiroz\n",
      "nome: karol queiroz\n",
      "37\n",
      "user: karla.oliveira_nutricionista\n",
      "nome: Karla Oliveira_Nutri\n",
      "38\n",
      "user: rachel_alves\n",
      "nome: Rachel Alves\n",
      "39\n",
      "user: 42bareboardgames\n",
      "nome: 42 Bar e Board Games\n",
      "40\n",
      "user: gamespotcosplay\n",
      "nome: GameSpot Cosplay\n",
      "41\n",
      "user: danyrog_\n",
      "nome: Daniely Rodrigues\n",
      "42\n",
      "user: amanda.bucar\n",
      "nome: Amanda Bucar\n",
      "43\n",
      "user: emilia_clarke\n",
      "nome: emilia_clarke\n",
      "44\n",
      "user: _revvels_\n",
      "nome: Gijs \"Revvels\" van Kooten\n",
      "45\n",
      "user: vanessamonttt\n",
      "nome: Vanessa Monteiro\n",
      "46\n",
      "user: 42beads\n",
      "nome: 42beads to rule them all\n",
      "47\n",
      "user: parlochat\n",
      "nome: Parlo Chat\n",
      "48\n",
      "user: anawiccana\n",
      "nome: Ana Bandeira\n",
      "49\n",
      "user: elefint\n",
      "nome: Elefint\n",
      "50\n",
      "user: felippmello\n",
      "nome: Felipe Mello\n",
      "51\n",
      "user: hannahborealis\n",
      "nome: Hannah McComb\n",
      "52\n",
      "user: catarinensedistribuidora\n",
      "nome: Distribuidora Catarinense\n",
      "53\n",
      "user: camaraenet\n",
      "nome: camara-e.net\n",
      "54\n",
      "user: ricardobrunobarros\n",
      "nome: Ricardo Bruno\n",
      "55\n",
      "user: eduardo_nso\n",
      "nome: Eduardo Oliveira\n",
      "56\n",
      "user: vivoverde\n",
      "nome: Blog VivoVerde\n",
      "57\n",
      "user: acquazero.palmas\n",
      "nome: Acquazero Palmas\n",
      "58\n",
      "user: tattoo2me\n",
      "nome: Tattoo2me\n",
      "59\n",
      "user: ichtustattoo\n",
      "nome: Ichtustattoo\n",
      "60\n",
      "user: oandrevalente\n",
      "nome: André Valente\n",
      "61\n",
      "user: bonpon511\n",
      "nome: bon_pon\n",
      "62\n",
      "user: promobebidaspalmas\n",
      "nome: Promoções De Bebidas Palmas-TO\n",
      "63\n",
      "user: premiumconcursos\n",
      "nome: Premium Educação e Ensino\n",
      "64\n",
      "user: contemleite\n",
      "nome: 🥛 Van Neves\n",
      "65\n",
      "user: vaniusbrito\n",
      "nome: Vanius Girodo Brito\n",
      "66\n",
      "user: animadissima\n",
      "nome: Carla Cavalcante\n",
      "67\n",
      "user: is_adorable\n",
      "nome: Isadora Attab\n",
      "68\n",
      "user: toothtaker\n",
      "nome: Toothtaker\n",
      "69\n",
      "user: carolucht\n",
      "nome: Carolina Luchtenberg\n",
      "70\n",
      "user: midiqueiroz\n",
      "nome: Midi Rocha Queiroz\n",
      "71\n",
      "user: gelingourmet\n",
      "nome: GeLin Gourmet®\n",
      "72\n",
      "user: mariahdopara\n",
      "nome: Cynthia Mariah Barreto Correia\n",
      "73\n",
      "user: dartefavarin\n",
      "nome: darte favarin\n",
      "74\n",
      "user: solimoescantor\n",
      "nome: solimoescantor\n",
      "75\n",
      "user: gabrielstroligo\n",
      "nome: Gabriel Stroligo\n",
      "76\n",
      "user: felipembbraga\n",
      "nome: Felipe Mendes Braga\n",
      "77\n",
      "user: bernarddeluna\n",
      "nome: Bernard De Luna\n",
      "78\n",
      "user: lipebrasil_\n",
      "nome: 👦Felipe Brasil\n",
      "79\n",
      "user: osliadriel\n",
      "nome: OSLI A M SETUBAL\n",
      "80\n",
      "user: diegosalomaomelo\n",
      "nome: Diego Salomão\n",
      "81\n",
      "user: lauraagapito\n",
      "nome: Laura Agapito\n",
      "82\n",
      "user: paulo_torr\n",
      "nome: Paulo Roberto Torres\n",
      "83\n",
      "user: duduzeenhow\n",
      "nome: Eduardo Rolim\n",
      "84\n",
      "user: lextthar\n",
      "nome: Josimar Montt'eiro\n",
      "85\n",
      "user: lucasdiasq\n",
      "nome: Lucas Dias\n",
      "86\n",
      "user: viniciuspjardim\n",
      "nome: Vinícius Jardim\n",
      "87\n",
      "user: marianofilho\n",
      "nome: Mariano Alves\n",
      "88\n",
      "user: uchoarenato\n",
      "nome: Renato Uchôa\n",
      "89\n",
      "user: laisgomes2107\n",
      "nome: Lais Gomes\n",
      "90\n",
      "user: edcarllos\n",
      "nome: Edcarllos Santos\n",
      "91\n",
      "user: albertodesatattoo\n",
      "nome: Alberto de Sá\n",
      "92\n",
      "user: mikahedge\n",
      "nome: Mika\n",
      "93\n",
      "user: lucasradaelli\n",
      "nome: Lucas\n",
      "94\n",
      "user: geovanalima_\n",
      "nome: Geovana Lima\n",
      "95\n",
      "user: daniel_apasseio\n",
      "nome: Daniel Dos Santos\n",
      "96\n",
      "user: rafacoutinho80\n",
      "nome: Rafael Coutinho\n",
      "97\n",
      "user: pauloronter\n",
      "nome: Paulo Ronter\n",
      "98\n",
      "user: kimjunggius\n",
      "nome: Kim Jung Gi US\n",
      "99\n",
      "user: lucaseamachado\n",
      "nome: Lucas Emmanoel Araujo Machado\n",
      "100\n",
      "user: nocedanielle\n",
      "nome: Danielle Noce\n",
      "101\n",
      "user: apoisongurl\n",
      "nome: Luciana\n",
      "102\n",
      "user: metaaberta\n",
      "nome: metaaberta\n",
      "103\n",
      "user: affkizzy\n",
      "nome: Kizzy Brontë\n",
      "104\n",
      "user: smartereveryday\n",
      "nome: Destin\n",
      "105\n",
      "user: chipbrasil\n",
      "nome: Chip Brasil Cronometragem\n",
      "106\n",
      "user: oceanoazulweb\n",
      "nome: Oceano Azul Agência Digital\n",
      "107\n",
      "user: conecte3\n",
      "nome: Conecte3\n",
      "108\n",
      "user: drehmer\n",
      "nome: Drehmer 卢西亚诺\n",
      "109\n",
      "user: joutjout\n",
      "nome: Jout Jout\n"
     ]
    }
   ],
   "source": [
    "\n",
    "li = driver.find_elements_by_xpath(\"//li[contains(.,'Seguindo')]\")\n",
    "it = iter(li)\n",
    "i=0\n",
    "for item in it:\n",
    "    #text = item.text\n",
    "    t = item.text.strip().replace('Seguindo', '', 1).replace('Verificado', '', 1).splitlines()\n",
    "    print(i)\n",
    "    i+=1\n",
    "    print('user: '+t[0] )\n",
    "    if not t[-1]:\n",
    "        print('nome: '+t[0])\n",
    "    else:\n",
    "        print('nome: '+t[-1])\n",
    "    #next(it)\n",
    "    #name = next(it)\n",
    "    #print('name:'+name.text)\n",
    "    #next(it)\n"
   ]
  },
  {
   "cell_type": "code",
   "execution_count": null,
   "metadata": {
    "collapsed": true
   },
   "outputs": [],
   "source": []
  },
  {
   "cell_type": "code",
   "execution_count": null,
   "metadata": {
    "collapsed": true
   },
   "outputs": [],
   "source": []
  },
  {
   "cell_type": "code",
   "execution_count": null,
   "metadata": {
    "collapsed": true
   },
   "outputs": [],
   "source": []
  },
  {
   "cell_type": "code",
   "execution_count": null,
   "metadata": {
    "collapsed": true
   },
   "outputs": [],
   "source": []
  },
  {
   "cell_type": "code",
   "execution_count": null,
   "metadata": {
    "collapsed": true
   },
   "outputs": [],
   "source": []
  }
 ],
 "metadata": {
  "kernelspec": {
   "display_name": "Python 3",
   "language": "python",
   "name": "python3"
  },
  "language_info": {
   "codemirror_mode": {
    "name": "ipython",
    "version": 3
   },
   "file_extension": ".py",
   "mimetype": "text/x-python",
   "name": "python",
   "nbconvert_exporter": "python",
   "pygments_lexer": "ipython3",
   "version": "3.6.3"
  }
 },
 "nbformat": 4,
 "nbformat_minor": 2
}
