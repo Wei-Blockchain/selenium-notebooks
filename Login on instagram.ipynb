{
 "cells": [
  {
   "cell_type": "code",
   "execution_count": 103,
   "metadata": {
    "collapsed": true
   },
   "outputs": [],
   "source": [
    "import os\n",
    "from time import sleep\n",
    "from selenium import webdriver"
   ]
  },
  {
   "cell_type": "code",
   "execution_count": 22,
   "metadata": {
    "collapsed": true
   },
   "outputs": [],
   "source": [
    "with open('insta.env') as f:\n",
    "    for line in f:\n",
    "        key, value = line.strip().split('=', 1)\n",
    "        os.environ[key] = value"
   ]
  },
  {
   "cell_type": "code",
   "execution_count": 17,
   "metadata": {
    "collapsed": true
   },
   "outputs": [],
   "source": [
    "url = \"https://www.instagram.com/accounts/login/\""
   ]
  },
  {
   "cell_type": "code",
   "execution_count": 18,
   "metadata": {
    "collapsed": false
   },
   "outputs": [],
   "source": [
    "driver = webdriver.Chrome(executable_path=\"/home/guilherme/Projetos/selenium/chromedriver2.25\")"
   ]
  },
  {
   "cell_type": "code",
   "execution_count": 19,
   "metadata": {
    "collapsed": true
   },
   "outputs": [],
   "source": [
    "driver.get(url)"
   ]
  },
  {
   "cell_type": "code",
   "execution_count": 21,
   "metadata": {
    "collapsed": false
   },
   "outputs": [],
   "source": [
    "username_field = driver.find_element_by_name('username')\n",
    "password_field = driver.find_element_by_name('password')"
   ]
  },
  {
   "cell_type": "code",
   "execution_count": 23,
   "metadata": {
    "collapsed": true
   },
   "outputs": [],
   "source": [
    "username_field.send_keys(os.environ['user'])"
   ]
  },
  {
   "cell_type": "code",
   "execution_count": 24,
   "metadata": {
    "collapsed": true
   },
   "outputs": [],
   "source": [
    "password_field.send_keys(os.environ['pass'])"
   ]
  },
  {
   "cell_type": "code",
   "execution_count": 34,
   "metadata": {
    "collapsed": false
   },
   "outputs": [],
   "source": [
    "driver.find_element_by_xpath(\"//button[contains(.,'Entrar')]\").click()"
   ]
  },
  {
   "cell_type": "code",
   "execution_count": 92,
   "metadata": {
    "collapsed": false
   },
   "outputs": [],
   "source": [
    "profile = \"https://www.instagram.com/\"+os.environ['user']"
   ]
  },
  {
   "cell_type": "code",
   "execution_count": 107,
   "metadata": {
    "collapsed": true
   },
   "outputs": [],
   "source": [
    "driver.get(profile)"
   ]
  },
  {
   "cell_type": "code",
   "execution_count": 108,
   "metadata": {
    "collapsed": false
   },
   "outputs": [],
   "source": [
    "driver.find_element_by_xpath(\"//a[contains(.,'seguindo')]\").click()"
   ]
  },
  {
   "cell_type": "code",
   "execution_count": 48,
   "metadata": {
    "collapsed": true
   },
   "outputs": [],
   "source": [
    "driver.execute_script(\"window.scrollTo(0, 500);\")"
   ]
  },
  {
   "cell_type": "code",
   "execution_count": 85,
   "metadata": {
    "collapsed": false
   },
   "outputs": [
    {
     "name": "stdout",
     "output_type": "stream",
     "text": [
      "758 publicações\n",
      "344 seguidores\n",
      "seguindo 317\n",
      "SOBRE NÓS\n",
      "SUPORTE\n",
      "BLOG\n",
      "IMPRENSA\n",
      "API\n",
      "CARREIRAS\n",
      "PRIVACIDADE\n",
      "TERMOS\n",
      "DIRETÓRIO\n",
      "PERFIS\n",
      "IDIOMA\n",
      "Afrikaans\n",
      "Čeština\n",
      "Dansk\n",
      "Deutsch\n",
      "Ελληνικά\n",
      "English\n",
      "Español (España)\n",
      "Español\n",
      "Suomi\n",
      "Français\n",
      "Bahasa Indonesia\n",
      "Italiano\n",
      "日本語\n",
      "한국어\n",
      "Bahasa Melayu\n",
      "Norsk\n",
      "Nederlands\n",
      "Polski\n",
      "Português (Brasil)\n",
      "Português (Portugal)\n",
      "Русский\n",
      "Svenska\n",
      "ภาษาไทย\n",
      "Filipino\n",
      "Türkçe\n",
      "中文(简体)\n",
      "中文(台灣)\n",
      "বাংলা\n",
      "ગુજરાતી\n",
      "हिन्दी\n",
      "Hrvatski\n",
      "Magyar\n",
      "ಕನ್ನಡ\n",
      "മലയാളം\n",
      "मराठी\n",
      "नेपाली\n",
      "ਪੰਜਾਬੀ\n",
      "සිංහල\n",
      "Slovenčina\n",
      "தமிழ்\n",
      "తెలుగు\n",
      "Tiếng Việt\n",
      "中文(香港)\n",
      "Български\n",
      "Français (Canada)\n",
      "Română\n",
      "Српски\n",
      "Українська\n",
      "pathydejesus\n",
      "Verificado\n",
      "Patricia Dejesus 🐜\n",
      "Seguindo\n",
      "alecrim_ci\n",
      "Alecrim Cozinha Inteligente\n",
      "Seguindo\n",
      "saravernerr\n",
      "Sara Verner\n",
      "Seguindo\n",
      "marianoalvesfotografia\n",
      "Mariano Alves fotógrafo\n",
      "Seguindo\n",
      "nordestrip\n",
      "🌴 NordesTrip 🌵\n",
      "Seguindo\n",
      "matelima\n",
      "⠀⠀⠀⠀⠀⠀⠀M⠀a⠀t⠀e⠀u⠀s ⠀⠀⠀L⠀i⠀m⠀a⠀\n",
      "Seguindo\n",
      "paulohanda\n",
      "Paulo Handa Art Gallery\n",
      "Seguindo\n",
      "pedromarcioap\n",
      "Pedro Márcio\n",
      "Seguindo\n",
      "gamespot\n",
      "Verificado\n",
      "GameSpot\n",
      "Seguindo\n",
      "vistasba\n",
      "SBA\n",
      "Seguindo\n",
      "mariajoaquinabarbosa\n",
      "Maria Joaquina Barbosa Goulart\n",
      "Seguindo\n",
      "marciorms\n",
      "Marcio Machado da Silva\n",
      "Seguindo\n",
      "bradfeld\n",
      "Seguindo\n",
      "mmarcosmedeiros\n",
      "Marcos Medeiros\n",
      "Seguindo\n",
      "piticaspalmas\n",
      "Piticas - Palmas/TO\n",
      "Seguindo\n",
      "clubedorisco\n",
      "Clube do Risco 💀\n",
      "Seguindo\n",
      "aylluatacama\n",
      "Mike - Aylluatacama\n",
      "Seguindo\n",
      "isthisreal\n",
      "Brian Baldrati™\n",
      "Seguindo\n",
      "blogumviajante\n",
      "Um Viajante\n",
      "Seguindo\n",
      "swpalmas\n",
      "Startup Weekend Palmas\n",
      "Seguindo\n",
      "nekoama\n",
      "Ama\n",
      "Seguindo\n",
      "5horas\n",
      "Felipe 5 Horas\n",
      "Seguindo\n",
      "anendfor\n",
      "Fernando Schlaepfer\n",
      "Seguindo\n",
      "taikawaititi\n",
      "Verificado\n",
      "Taika Waititi\n",
      "Seguindo\n",
      "yasmin.ant\n",
      "Yasmin Formiga\n",
      "Seguindo\n",
      "karlacibelle\n",
      "Karla Cibelle\n",
      "Seguindo\n",
      "toca.da.bruxa\n",
      "mariana teixeira\n",
      "Seguindo\n",
      "tcheqnorris\n",
      "Kerols\n",
      "Seguindo\n",
      "elesq\n",
      "Elliana Esquivel\n",
      "Seguindo\n",
      "jakeparker\n",
      "Jake Parker\n",
      "Seguindo\n",
      "cintia_fers\n",
      "Cintia Fernandes\n",
      "Seguindo\n",
      "senhorinibier\n",
      "Cerveja Artesanal Senhorini\n",
      "Seguindo\n",
      "nadyah.art\n",
      "Nadya\n",
      "Seguindo\n",
      "mioree_\n",
      "Mioree\n",
      "Seguindo\n",
      "_picolo\n",
      "Verificado\n",
      "Gabriel Picolo\n",
      "Seguindo\n",
      "artofsaltedegg\n",
      "Salted Egg\n",
      "Seguindo\n",
      "mkarolqueiroz\n",
      "karol queiroz\n",
      "Seguindo\n",
      "karla.oliveira_nutricionista\n",
      "Karla Oliveira_Nutri\n",
      "Seguindo\n",
      "rachel_alves\n",
      "Rachel Alves\n",
      "Seguindo\n",
      "42bareboardgames\n",
      "42 Bar e Board Games\n",
      "Seguindo\n"
     ]
    }
   ],
   "source": [
    "items = driver.find_elements_by_tag_name(\"li\")\n",
    "for item in items:\n",
    "    text = item.text\n",
    "    print(text)\n"
   ]
  },
  {
   "cell_type": "code",
   "execution_count": 54,
   "metadata": {
    "collapsed": false
   },
   "outputs": [],
   "source": [
    "q = len(items)"
   ]
  },
  {
   "cell_type": "code",
   "execution_count": 76,
   "metadata": {
    "collapsed": false
   },
   "outputs": [
    {
     "data": {
      "text/plain": [
       "'rachel_alves\\nRachel Alves\\nSeguindo'"
      ]
     },
     "execution_count": 76,
     "metadata": {},
     "output_type": "execute_result"
    }
   ],
   "source": [
    "items[q-2].text"
   ]
  },
  {
   "cell_type": "code",
   "execution_count": 86,
   "metadata": {
    "collapsed": false
   },
   "outputs": [],
   "source": [
    "t = items[q-1].text.splitlines()[1]\n",
    "\n",
    "\n",
    "li = driver.find_element_by_xpath(\"//li[contains(.,'\"+t+\"')]\")"
   ]
  },
  {
   "cell_type": "code",
   "execution_count": 87,
   "metadata": {
    "collapsed": false
   },
   "outputs": [
    {
     "data": {
      "text/plain": [
       "<selenium.webdriver.remote.webelement.WebElement (session=\"fa0bd34392065921cec8a91e95555528\", element=\"0.7204782415072015-55\")>"
      ]
     },
     "execution_count": 87,
     "metadata": {},
     "output_type": "execute_result"
    }
   ],
   "source": [
    "li"
   ]
  },
  {
   "cell_type": "code",
   "execution_count": 89,
   "metadata": {
    "collapsed": false
   },
   "outputs": [
    {
     "data": {
      "text/plain": [
       "{'x': 166, 'y': 726}"
      ]
     },
     "execution_count": 89,
     "metadata": {},
     "output_type": "execute_result"
    }
   ],
   "source": [
    "li.location_once_scrolled_into_view"
   ]
  },
  {
   "cell_type": "code",
   "execution_count": 109,
   "metadata": {
    "collapsed": false
   },
   "outputs": [
    {
     "name": "stdout",
     "output_type": "stream",
     "text": [
      "['swpalmas', 'Startup Weekend Palmas', 'Seguindo']\n",
      "['jakeparker', 'Jake Parker', 'Seguindo']\n",
      "['42bareboardgames', '42 Bar e Board Games', 'Seguindo']\n",
      "['elefint', 'Elefint', 'Seguindo']\n",
      "['ichtustattoo', 'Ichtustattoo', 'Seguindo']\n",
      "['carolucht', 'Carolina Luchtenberg', 'Seguindo']\n",
      "['osliadriel', 'OSLI A M SETUBAL', 'Seguindo']\n",
      "['laisgomes2107', 'Lais Gomes', 'Seguindo']\n",
      "['lucaseamachado', 'Lucas Emmanoel Araujo Machado', 'Seguindo']\n",
      "['joutjout', 'Verificado', 'Jout Jout', 'Seguindo']\n",
      "['joutjout', 'Verificado', 'Jout Jout', 'Seguindo']\n"
     ]
    }
   ],
   "source": [
    "profile = \"https://www.instagram.com/\"+os.environ['user']\n",
    "driver.get(profile)\n",
    "driver.find_element_by_xpath(\"//a[contains(.,'seguindo')]\").click()\n",
    "\n",
    "old_li_text = 'old'\n",
    "li_text = 'text'\n",
    "\n",
    "while old_li_text != li_text:\n",
    "    old_li_text = li_text\n",
    "    items = driver.find_elements_by_tag_name(\"li\")\n",
    "    q = len(items)\n",
    "    li_text = items[q-1].text.splitlines()\n",
    "    li = driver.find_element_by_xpath(\"//li[contains(.,'\"+li_text[1]+\"')]\")\n",
    "    li.location_once_scrolled_into_view\n",
    "    print(li_text)\n",
    "    sleep(2)\n",
    "\n",
    "\n",
    "    \n",
    "\n"
   ]
  },
  {
   "cell_type": "code",
   "execution_count": null,
   "metadata": {
    "collapsed": true
   },
   "outputs": [],
   "source": []
  },
  {
   "cell_type": "code",
   "execution_count": null,
   "metadata": {
    "collapsed": true
   },
   "outputs": [],
   "source": []
  },
  {
   "cell_type": "code",
   "execution_count": null,
   "metadata": {
    "collapsed": true
   },
   "outputs": [],
   "source": []
  },
  {
   "cell_type": "code",
   "execution_count": null,
   "metadata": {
    "collapsed": true
   },
   "outputs": [],
   "source": []
  },
  {
   "cell_type": "code",
   "execution_count": null,
   "metadata": {
    "collapsed": true
   },
   "outputs": [],
   "source": []
  },
  {
   "cell_type": "code",
   "execution_count": null,
   "metadata": {
    "collapsed": true
   },
   "outputs": [],
   "source": []
  },
  {
   "cell_type": "code",
   "execution_count": null,
   "metadata": {
    "collapsed": true
   },
   "outputs": [],
   "source": []
  }
 ],
 "metadata": {
  "kernelspec": {
   "display_name": "Python 3",
   "language": "python",
   "name": "python3"
  },
  "language_info": {
   "codemirror_mode": {
    "name": "ipython",
    "version": 3
   },
   "file_extension": ".py",
   "mimetype": "text/x-python",
   "name": "python",
   "nbconvert_exporter": "python",
   "pygments_lexer": "ipython3",
   "version": "3.6.2"
  }
 },
 "nbformat": 4,
 "nbformat_minor": 2
}
