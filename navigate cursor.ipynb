{
 "cells": [
  {
   "cell_type": "code",
   "execution_count": 2,
   "metadata": {
    "collapsed": true
   },
   "outputs": [],
   "source": [
    "import os\n",
    "\n",
    "from time import sleep\n",
    "from selenium import webdriver\n",
    "from selenium.webdriver.common.action_chains import ActionChains\n"
   ]
  },
  {
   "cell_type": "markdown",
   "metadata": {},
   "source": [
    "Stack Overflow https://stackoverflow.com/questions/37878468/mouse-movement-in-a-webpage-using-selenium-webdriver?rq=1"
   ]
  },
  {
   "cell_type": "code",
   "execution_count": 12,
   "metadata": {
    "collapsed": true
   },
   "outputs": [],
   "source": [
    "url = \"https://www.amazon.in/\"\n",
    "driver = webdriver.Chrome(executable_path=\"/home/guilherme/Projetos/selenium/chromedriver2.25\")\n",
    "driver.get(url)"
   ]
  },
  {
   "cell_type": "markdown",
   "metadata": {},
   "source": [
    "In the webpage, I want to move the cursor to \"Shop by category\"->\"Mobiles&tablets\"->then click the link \"Android Mobiles\". But could not see the link Android phone clicked."
   ]
  },
  {
   "cell_type": "code",
   "execution_count": 14,
   "metadata": {
    "collapsed": false
   },
   "outputs": [],
   "source": [
    "action =  ActionChains(driver);\n",
    "\n",
    "category = driver.find_element_by_id('nav-link-shopall')\n",
    "\n",
    "action.move_to_element(category)\n",
    "action.perform();\n",
    "\n",
    "sleep(0.1)\n",
    "\n",
    "#<span class=\"nav-hasPanel                              nav-item\" data-nav-panelkey=\"PhonesAccessoriesPanel\" role=\"navigation\" aria-label=\"Mobiles, Computers\">                          <span class=\"nav-text\">Mobiles, Computers</span>                          </span>\n",
    "mobile = driver.find_element_by_xpath(\"//*[span='Mobiles, Computers']\")\n",
    "\n",
    "\n",
    "action.move_to_element(mobile);\n",
    "action.perform();\n",
    "\n",
    "sleep(0.1)\n",
    "#<span class=\"nav-text\">All Mobile Phones</span>\n",
    "allmobile = driver.find_element_by_xpath(\"//*[span='All Mobile Phones']\")\n",
    "\n",
    "\n",
    "action.move_to_element(allmobile);\n",
    "action.perform();\n",
    "\n",
    "sleep(0.1)\n",
    "allmobile.click();"
   ]
  },
  {
   "cell_type": "code",
   "execution_count": null,
   "metadata": {
    "collapsed": true
   },
   "outputs": [],
   "source": []
  },
  {
   "cell_type": "code",
   "execution_count": null,
   "metadata": {
    "collapsed": true
   },
   "outputs": [],
   "source": []
  },
  {
   "cell_type": "code",
   "execution_count": null,
   "metadata": {
    "collapsed": true
   },
   "outputs": [],
   "source": []
  }
 ],
 "metadata": {
  "kernelspec": {
   "display_name": "Python 3",
   "language": "python",
   "name": "python3"
  },
  "language_info": {
   "codemirror_mode": {
    "name": "ipython",
    "version": 3
   },
   "file_extension": ".py",
   "mimetype": "text/x-python",
   "name": "python",
   "nbconvert_exporter": "python",
   "pygments_lexer": "ipython3",
   "version": "3.6.2"
  }
 },
 "nbformat": 4,
 "nbformat_minor": 2
}
