{
 "cells": [
  {
   "cell_type": "markdown",
   "metadata": {},
   "source": [
    "Motivatade by this question https://stackoverflow.com/questions/45361806/python-requests-sometimes-returns-empty-list/48670385#48670385"
   ]
  },
  {
   "cell_type": "code",
   "execution_count": 1,
   "metadata": {
    "collapsed": true
   },
   "outputs": [],
   "source": [
    "from selenium import webdriver"
   ]
  },
  {
   "cell_type": "code",
   "execution_count": 5,
   "metadata": {
    "collapsed": false
   },
   "outputs": [],
   "source": [
    "driver = webdriver.Chrome(executable_path=\"/home/guilherme/Projetos/selenium/chromedriver2.25\")"
   ]
  },
  {
   "cell_type": "code",
   "execution_count": 2,
   "metadata": {
    "collapsed": true
   },
   "outputs": [],
   "source": [
    "url = \"https://www.cellartracker.com/wine.asp?iWine=91411\"\n"
   ]
  },
  {
   "cell_type": "code",
   "execution_count": 6,
   "metadata": {
    "collapsed": false
   },
   "outputs": [],
   "source": [
    "driver.get(url)"
   ]
  },
  {
   "cell_type": "code",
   "execution_count": 9,
   "metadata": {
    "collapsed": true
   },
   "outputs": [],
   "source": [
    "list = driver.find_elements_by_xpath(\"//li[contains(.,'review')]\")"
   ]
  },
  {
   "cell_type": "code",
   "execution_count": 16,
   "metadata": {
    "collapsed": false
   },
   "outputs": [
    {
     "name": "stdout",
     "output_type": "stream",
     "text": [
      "Options\n",
      "1/4/2014 - REUBENSHAPCOTT WROTE:\n",
      "91 Points\n",
      "Delicious! Had no idea that Australia made port this good, and affordable. Terrific, smooth fig and plum. Aged and neither sharp nor grapey. If you see it, buy it.\n",
      "Do you find this review helpful? Yes - No / Comment\n",
      "---\n",
      "Options\n",
      "1/20/2013 - LISAADAM WROTE:\n",
      "85 Points\n",
      "The wine looks Tawny colored.\n",
      "Do you find this review helpful? Yes - No / Comment\n",
      "---\n",
      "Options\n",
      "12/22/2012 - WINEAGGREGATE LIKES THIS WINE:\n",
      "90 Points\n",
      "Molasses, pepper, butterscotch candy that's been roasted a bit. Very nice.\n",
      "Do you find this review helpful? Yes - No / Comment\n",
      "---\n",
      "Options\n",
      "10/30/2011 - GTI2TON WROTE:\n",
      "87 Points\n",
      "Sweeter than average tawny and straightforward, but still has nice richness in its raisin and light carmel notes. Good value.\n",
      "Do you find this review helpful? Yes - No / Comment\n",
      "---\n",
      "Options\n",
      "9/18/2011 - WINECAT WROTE:\n",
      "87 Points\n",
      "Ruby Tawny in color. full body with sweet red fruit\n",
      "Do you find this review helpful? Yes - No / Comment\n",
      "---\n",
      "Pro Reviews\n",
      "2\n",
      "Wine Library TV\n",
      "90\n",
      "RJonWine.com\n",
      "90\n",
      "(see all 2 reviews)\n",
      "Add a Pro Review\n",
      "---\n",
      "(see all 2 reviews)\n",
      "---\n"
     ]
    }
   ],
   "source": [
    "for item in list:\n",
    "    print(item.text)\n",
    "    print(\"---\")"
   ]
  },
  {
   "cell_type": "code",
   "execution_count": null,
   "metadata": {
    "collapsed": true
   },
   "outputs": [],
   "source": []
  },
  {
   "cell_type": "code",
   "execution_count": null,
   "metadata": {
    "collapsed": true
   },
   "outputs": [],
   "source": []
  },
  {
   "cell_type": "code",
   "execution_count": null,
   "metadata": {
    "collapsed": true
   },
   "outputs": [],
   "source": [
    "username_field = driver.find_element_by_name('username')"
   ]
  },
  {
   "cell_type": "code",
   "execution_count": null,
   "metadata": {
    "collapsed": true
   },
   "outputs": [],
   "source": []
  }
 ],
 "metadata": {
  "kernelspec": {
   "display_name": "Python 3",
   "language": "python",
   "name": "python3"
  },
  "language_info": {
   "codemirror_mode": {
    "name": "ipython",
    "version": 3
   },
   "file_extension": ".py",
   "mimetype": "text/x-python",
   "name": "python",
   "nbconvert_exporter": "python",
   "pygments_lexer": "ipython3",
   "version": "3.6.2"
  }
 },
 "nbformat": 4,
 "nbformat_minor": 2
}
